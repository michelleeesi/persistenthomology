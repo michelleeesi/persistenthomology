{
 "cells": [
  {
   "cell_type": "code",
   "execution_count": 1,
   "metadata": {
    "id": "KXJtPeGHUqxp"
   },
   "outputs": [],
   "source": [
    "import pandas as pd\n",
    "from matplotlib import pyplot\n",
    "from mpl_toolkits.mplot3d import Axes3D\n",
    "import numpy as np\n",
    "from ast import literal_eval\n",
    "from sklearn.svm import SVC\n",
    "from gtda.plotting  import plot_point_cloud, plot_diagram\n",
    "from gtda.diagrams import NumberOfPoints\n",
    "from gtda.pipeline import Pipeline"
   ]
  },
  {
   "cell_type": "code",
   "execution_count": 2,
   "metadata": {
    "id": "4KELKPQ6eT_6"
   },
   "outputs": [],
   "source": [
    "df = pd.read_csv('dataset_final.csv', converters={'vertices_coordinates': eval})"
   ]
  },
  {
   "cell_type": "code",
   "execution_count": 6,
   "metadata": {
    "colab": {
     "base_uri": "https://localhost:8080/",
     "height": 419
    },
    "id": "nC50PyVfedyE",
    "outputId": "9a973872-1543-4db5-f92f-10ecdab6e960"
   },
   "outputs": [],
   "source": [
    "df['label'] = np.where(df['age']>45, 1, 0)"
   ]
  },
  {
   "cell_type": "code",
   "execution_count": 5,
   "metadata": {},
   "outputs": [
    {
     "data": {
      "text/html": [
       "<div>\n",
       "<style scoped>\n",
       "    .dataframe tbody tr th:only-of-type {\n",
       "        vertical-align: middle;\n",
       "    }\n",
       "\n",
       "    .dataframe tbody tr th {\n",
       "        vertical-align: top;\n",
       "    }\n",
       "\n",
       "    .dataframe thead th {\n",
       "        text-align: right;\n",
       "    }\n",
       "</style>\n",
       "<table border=\"1\" class=\"dataframe\">\n",
       "  <thead>\n",
       "    <tr style=\"text-align: right;\">\n",
       "      <th></th>\n",
       "      <th>subject</th>\n",
       "      <th>vertices_coordinates</th>\n",
       "      <th>age</th>\n",
       "      <th>gender</th>\n",
       "      <th>hand</th>\n",
       "      <th>total_artery_length</th>\n",
       "      <th>age_label</th>\n",
       "    </tr>\n",
       "  </thead>\n",
       "  <tbody>\n",
       "    <tr>\n",
       "      <th>0</th>\n",
       "      <td>1</td>\n",
       "      <td>[[112.939272498, 92.443597152, 15.1567389459],...</td>\n",
       "      <td>54</td>\n",
       "      <td>1</td>\n",
       "      <td>1</td>\n",
       "      <td>6925.358945</td>\n",
       "      <td>1</td>\n",
       "    </tr>\n",
       "    <tr>\n",
       "      <th>1</th>\n",
       "      <td>2</td>\n",
       "      <td>[[124.923405297, 94.952548743, 13.2145295543],...</td>\n",
       "      <td>25</td>\n",
       "      <td>2</td>\n",
       "      <td>1</td>\n",
       "      <td>6286.157836</td>\n",
       "      <td>0</td>\n",
       "    </tr>\n",
       "    <tr>\n",
       "      <th>2</th>\n",
       "      <td>3</td>\n",
       "      <td>[[109.48619117999999, 87.998127165, 14.4936], ...</td>\n",
       "      <td>20</td>\n",
       "      <td>1</td>\n",
       "      <td>1</td>\n",
       "      <td>7100.591603</td>\n",
       "      <td>0</td>\n",
       "    </tr>\n",
       "    <tr>\n",
       "      <th>3</th>\n",
       "      <td>4</td>\n",
       "      <td>[[109.64688318900001, 90.610784142, 11.9744000...</td>\n",
       "      <td>27</td>\n",
       "      <td>1</td>\n",
       "      <td>1</td>\n",
       "      <td>6424.308916</td>\n",
       "      <td>0</td>\n",
       "    </tr>\n",
       "    <tr>\n",
       "      <th>4</th>\n",
       "      <td>5</td>\n",
       "      <td>[[121.803516036, 98.633576553, 8.96368], [121....</td>\n",
       "      <td>24</td>\n",
       "      <td>1</td>\n",
       "      <td>1</td>\n",
       "      <td>8710.597656</td>\n",
       "      <td>0</td>\n",
       "    </tr>\n",
       "    <tr>\n",
       "      <th>...</th>\n",
       "      <td>...</td>\n",
       "      <td>...</td>\n",
       "      <td>...</td>\n",
       "      <td>...</td>\n",
       "      <td>...</td>\n",
       "      <td>...</td>\n",
       "      <td>...</td>\n",
       "    </tr>\n",
       "    <tr>\n",
       "      <th>93</th>\n",
       "      <td>105</td>\n",
       "      <td>[[86.127836466, 88.388819238, 40.5228586925999...</td>\n",
       "      <td>79</td>\n",
       "      <td>2</td>\n",
       "      <td>1</td>\n",
       "      <td>5171.655045</td>\n",
       "      <td>1</td>\n",
       "    </tr>\n",
       "    <tr>\n",
       "      <th>94</th>\n",
       "      <td>106</td>\n",
       "      <td>[[88.492524624, 87.036028683, 43.3108775836], ...</td>\n",
       "      <td>63</td>\n",
       "      <td>2</td>\n",
       "      <td>2</td>\n",
       "      <td>4787.769584</td>\n",
       "      <td>1</td>\n",
       "    </tr>\n",
       "    <tr>\n",
       "      <th>95</th>\n",
       "      <td>107</td>\n",
       "      <td>[[94.81341924, 80.216629464, 27.08806771999999...</td>\n",
       "      <td>68</td>\n",
       "      <td>2</td>\n",
       "      <td>1</td>\n",
       "      <td>4452.018480</td>\n",
       "      <td>1</td>\n",
       "    </tr>\n",
       "    <tr>\n",
       "      <th>96</th>\n",
       "      <td>108</td>\n",
       "      <td>[[87.19980104999999, 91.96614166199998, 47.061...</td>\n",
       "      <td>58</td>\n",
       "      <td>2</td>\n",
       "      <td>1</td>\n",
       "      <td>6241.203997</td>\n",
       "      <td>1</td>\n",
       "    </tr>\n",
       "    <tr>\n",
       "      <th>97</th>\n",
       "      <td>109</td>\n",
       "      <td>[[90.921386907, 65.334906573, 33.4112452917], ...</td>\n",
       "      <td>52</td>\n",
       "      <td>2</td>\n",
       "      <td>1</td>\n",
       "      <td>6296.001910</td>\n",
       "      <td>1</td>\n",
       "    </tr>\n",
       "  </tbody>\n",
       "</table>\n",
       "<p>98 rows × 7 columns</p>\n",
       "</div>"
      ],
      "text/plain": [
       "    subject                               vertices_coordinates  age  gender  \\\n",
       "0         1  [[112.939272498, 92.443597152, 15.1567389459],...   54       1   \n",
       "1         2  [[124.923405297, 94.952548743, 13.2145295543],...   25       2   \n",
       "2         3  [[109.48619117999999, 87.998127165, 14.4936], ...   20       1   \n",
       "3         4  [[109.64688318900001, 90.610784142, 11.9744000...   27       1   \n",
       "4         5  [[121.803516036, 98.633576553, 8.96368], [121....   24       1   \n",
       "..      ...                                                ...  ...     ...   \n",
       "93      105  [[86.127836466, 88.388819238, 40.5228586925999...   79       2   \n",
       "94      106  [[88.492524624, 87.036028683, 43.3108775836], ...   63       2   \n",
       "95      107  [[94.81341924, 80.216629464, 27.08806771999999...   68       2   \n",
       "96      108  [[87.19980104999999, 91.96614166199998, 47.061...   58       2   \n",
       "97      109  [[90.921386907, 65.334906573, 33.4112452917], ...   52       2   \n",
       "\n",
       "    hand  total_artery_length  age_label  \n",
       "0      1          6925.358945          1  \n",
       "1      1          6286.157836          0  \n",
       "2      1          7100.591603          0  \n",
       "3      1          6424.308916          0  \n",
       "4      1          8710.597656          0  \n",
       "..   ...                  ...        ...  \n",
       "93     1          5171.655045          1  \n",
       "94     2          4787.769584          1  \n",
       "95     1          4452.018480          1  \n",
       "96     1          6241.203997          1  \n",
       "97     1          6296.001910          1  \n",
       "\n",
       "[98 rows x 7 columns]"
      ]
     },
     "execution_count": 5,
     "metadata": {},
     "output_type": "execute_result"
    }
   ],
   "source": [
    "df"
   ]
  },
  {
   "cell_type": "code",
   "execution_count": 15,
   "metadata": {
    "id": "ghKy_TrKe5qy"
   },
   "outputs": [],
   "source": [
    "# select a young and old brain\n",
    "df_small = df[(df['age'].isin([20,79]))]"
   ]
  },
  {
   "cell_type": "code",
   "execution_count": 16,
   "metadata": {
    "colab": {
     "base_uri": "https://localhost:8080/",
     "height": 111
    },
    "id": "OoKbqbnYg2yU",
    "outputId": "3dc1621d-cd95-4e95-9071-d59e38a40553"
   },
   "outputs": [
    {
     "data": {
      "text/html": [
       "<div>\n",
       "<style scoped>\n",
       "    .dataframe tbody tr th:only-of-type {\n",
       "        vertical-align: middle;\n",
       "    }\n",
       "\n",
       "    .dataframe tbody tr th {\n",
       "        vertical-align: top;\n",
       "    }\n",
       "\n",
       "    .dataframe thead th {\n",
       "        text-align: right;\n",
       "    }\n",
       "</style>\n",
       "<table border=\"1\" class=\"dataframe\">\n",
       "  <thead>\n",
       "    <tr style=\"text-align: right;\">\n",
       "      <th></th>\n",
       "      <th>subject</th>\n",
       "      <th>vertices_coordinates</th>\n",
       "      <th>age</th>\n",
       "      <th>gender</th>\n",
       "      <th>hand</th>\n",
       "      <th>total_artery_length</th>\n",
       "      <th>age_label</th>\n",
       "      <th>label</th>\n",
       "      <th>subsampled_point_cloud</th>\n",
       "      <th>subsampled_point_cloud_500</th>\n",
       "    </tr>\n",
       "  </thead>\n",
       "  <tbody>\n",
       "    <tr>\n",
       "      <th>2</th>\n",
       "      <td>3</td>\n",
       "      <td>[[109.48619117999999, 87.998127165, 14.4936], ...</td>\n",
       "      <td>20</td>\n",
       "      <td>1</td>\n",
       "      <td>1</td>\n",
       "      <td>7100.591603</td>\n",
       "      <td>0</td>\n",
       "      <td>0</td>\n",
       "      <td>[[84.44288064, 76.104351534, 79.71928000000001...</td>\n",
       "      <td>[[84.44288064, 76.104351534, 79.71928000000001...</td>\n",
       "    </tr>\n",
       "    <tr>\n",
       "      <th>93</th>\n",
       "      <td>105</td>\n",
       "      <td>[[86.127836466, 88.388819238, 40.5228586925999...</td>\n",
       "      <td>79</td>\n",
       "      <td>2</td>\n",
       "      <td>1</td>\n",
       "      <td>5171.655045</td>\n",
       "      <td>1</td>\n",
       "      <td>1</td>\n",
       "      <td>[[90.662123442, 123.682534416, 101.73174567000...</td>\n",
       "      <td>[[90.662123442, 123.682534416, 101.73174567000...</td>\n",
       "    </tr>\n",
       "  </tbody>\n",
       "</table>\n",
       "</div>"
      ],
      "text/plain": [
       "    subject                               vertices_coordinates  age  gender  \\\n",
       "2         3  [[109.48619117999999, 87.998127165, 14.4936], ...   20       1   \n",
       "93      105  [[86.127836466, 88.388819238, 40.5228586925999...   79       2   \n",
       "\n",
       "    hand  total_artery_length  age_label  label  \\\n",
       "2      1          7100.591603          0      0   \n",
       "93     1          5171.655045          1      1   \n",
       "\n",
       "                               subsampled_point_cloud  \\\n",
       "2   [[84.44288064, 76.104351534, 79.71928000000001...   \n",
       "93  [[90.662123442, 123.682534416, 101.73174567000...   \n",
       "\n",
       "                           subsampled_point_cloud_500  \n",
       "2   [[84.44288064, 76.104351534, 79.71928000000001...  \n",
       "93  [[90.662123442, 123.682534416, 101.73174567000...  "
      ]
     },
     "execution_count": 16,
     "metadata": {},
     "output_type": "execute_result"
    }
   ],
   "source": [
    "df_small"
   ]
  },
  {
   "cell_type": "code",
   "execution_count": 17,
   "metadata": {
    "id": "off4B5gChCnX"
   },
   "outputs": [],
   "source": [
    "df_small.to_csv(\"visualisation_data.csv\", index=False)"
   ]
  },
  {
   "cell_type": "code",
   "execution_count": 10,
   "metadata": {
    "id": "hVMRUzEoejib"
   },
   "outputs": [],
   "source": [
    "# subsample 1000 and create a new column\n",
    "# create a separate column with the subsamples points\n",
    "num_samples = 1000\n",
    "subsampled_point_cloud = []\n",
    "for i in range(0,98):\n",
    "    myarray = np.asarray(df['vertices_coordinates'].iloc[i])\n",
    "    np.random.seed(42)\n",
    "    idx = np.random.choice(np.arange(len(myarray)), num_samples)\n",
    "    subsampled_array = myarray[idx,:]\n",
    "    subsampled_point_cloud.append(subsampled_array)"
   ]
  },
  {
   "cell_type": "code",
   "execution_count": 11,
   "metadata": {
    "id": "TPi8WQ9JhqdJ"
   },
   "outputs": [],
   "source": [
    "df['subsampled_point_cloud'] = subsampled_point_cloud"
   ]
  },
  {
   "cell_type": "code",
   "execution_count": 12,
   "metadata": {
    "id": "fTFcSLBlh5Ed"
   },
   "outputs": [],
   "source": [
    "df_subsampled = df[['subject', 'subsampled_point_cloud', 'total_artery_length', 'age','gender','hand','label']].copy()"
   ]
  },
  {
   "cell_type": "code",
   "execution_count": 13,
   "metadata": {
    "id": "w1m3a3p-iP67"
   },
   "outputs": [],
   "source": [
    "df_subsampled.to_csv(\"subsampled_data.csv\", index=False)"
   ]
  },
  {
   "cell_type": "code",
   "execution_count": 19,
   "metadata": {
    "id": "C9I3yOvuiiNh"
   },
   "outputs": [],
   "source": [
    "# subsample 2000 points and create a new column\n",
    "# create a separate column with the subsamples points\n",
    "num_samples = 2000\n",
    "subsampled_point_cloud_2000 = []\n",
    "for i in range(0,98):\n",
    "    myarray = np.asarray(df['vertices_coordinates'].iloc[i])\n",
    "    np.random.seed(42)\n",
    "    idx = np.random.choice(np.arange(len(myarray)), num_samples)\n",
    "    subsampled_array = myarray[idx,:]\n",
    "    subsampled_point_cloud_2000.append(subsampled_array)\n",
    "subsampled_point_cloud_2000 = [l.tolist() for l in subsampled_point_cloud_2000]  \n",
    "df['subsampled_point_cloud_2000'] = subsampled_point_cloud_2000 \n",
    "df_subsampled_500 = df[['subject', 'subsampled_point_cloud_2000', 'total_artery_length', 'age','gender','hand','label']].copy()\n",
    "df_subsampled_500.to_csv(\"subsampled_data_2000_final.csv\", index=False)"
   ]
  },
  {
   "cell_type": "code",
   "execution_count": null,
   "metadata": {
    "id": "8WsSJNGkiiP3"
   },
   "outputs": [],
   "source": [
    "# subsample 3000 points and create a new column\n",
    "# create a separate column with the subsamples points\n",
    "num_samples = 3000\n",
    "subsampled_point_cloud = []\n",
    "for i in range(0,98):\n",
    "    myarray = np.asarray(df['vertices_coordinates'].iloc[i])\n",
    "    np.random.seed(42)\n",
    "    idx = np.random.choice(np.arange(len(myarray)), num_samples)\n",
    "    subsampled_array = myarray[idx,:]\n",
    "    subsampled_point_cloud.append(subsampled_array)\n",
    "df['subsampled_point_cloud_3000'] = subsampled_point_cloud \n",
    "df_subsampled_3000 = df[['subject', 'subsampled_point_cloud_3000', 'total_artery_length', 'age','gender','hand','label']].copy()\n",
    "df_subsampled_3000.to_csv(\"subsampled_data_3000.csv\", index=False)"
   ]
  },
  {
   "cell_type": "code",
   "execution_count": 14,
   "metadata": {
    "id": "b6mj5VFxiiXC"
   },
   "outputs": [],
   "source": [
    "# subsample 500 points and create a new column\n",
    "# create a separate column with the subsamples points\n",
    "num_samples = 500\n",
    "subsampled_point_cloud_500 = []\n",
    "for i in range(0,98):\n",
    "    myarray = np.asarray(df['vertices_coordinates'].iloc[i])\n",
    "    np.random.seed(42)\n",
    "    idx = np.random.choice(np.arange(len(myarray)), num_samples)\n",
    "    subsampled_array = myarray[idx,:]\n",
    "    subsampled_point_cloud_500.append(subsampled_array)\n",
    "subsampled_point_cloud_500 = [l.tolist() for l in subsampled_point_cloud_500]  \n",
    "df['subsampled_point_cloud_500'] = subsampled_point_cloud_500 \n",
    "df_subsampled_500 = df[['subject', 'subsampled_point_cloud_500', 'total_artery_length', 'age','gender','hand','label']].copy()\n",
    "df_subsampled_500.to_csv(\"subsampled_data_500_final.csv\", index=False)"
   ]
  }
 ],
 "metadata": {
  "colab": {
   "name": "Reduce_dataset.ipynb",
   "provenance": []
  },
  "kernelspec": {
   "display_name": "Python 3 (ipykernel)",
   "language": "python",
   "name": "python3"
  },
  "language_info": {
   "codemirror_mode": {
    "name": "ipython",
    "version": 3
   },
   "file_extension": ".py",
   "mimetype": "text/x-python",
   "name": "python",
   "nbconvert_exporter": "python",
   "pygments_lexer": "ipython3",
   "version": "3.8.12"
  }
 },
 "nbformat": 4,
 "nbformat_minor": 1
}
